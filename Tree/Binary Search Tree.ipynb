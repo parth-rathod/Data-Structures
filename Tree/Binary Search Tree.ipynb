{
 "cells": [
  {
   "cell_type": "markdown",
   "metadata": {},
   "source": [
    "# Binary Search Tree"
   ]
  },
  {
   "cell_type": "code",
   "execution_count": 3,
   "metadata": {},
   "outputs": [
    {
     "name": "stdout",
     "output_type": "stream",
     "text": [
      "Inorder Traversal: 1-2-3-4-5-7-8-9-10-\n"
     ]
    }
   ],
   "source": [
    "class Node():\n",
    "    def __init__(self,value):\n",
    "        self.value = value\n",
    "        self.left = None\n",
    "        self.right = None\n",
    "        \n",
    "class BST():\n",
    "    def __init__(self,root):\n",
    "        self.root = Node(root)\n",
    "    \n",
    "    def insert(self,new_val):\n",
    "        self.insert_help(self.root,new_val)\n",
    "    \n",
    "    def insert_help(self,curr,new):\n",
    "        if curr.value < new:\n",
    "            if curr.right:\n",
    "                self.insert_help(curr.right,new)\n",
    "            else:\n",
    "                curr.right = Node(new)\n",
    "                \n",
    "        elif curr.value > new:\n",
    "            if curr.left:\n",
    "                self.insert_help(curr.left,new)\n",
    "            else:\n",
    "                curr.left = Node(new)\n",
    "                \n",
    "        else:\n",
    "            print(\"Value {} already in tree:\".format(new))\n",
    "            \n",
    "            \n",
    "    def search(self,val):\n",
    "        if self.root:\n",
    "            found =self.search_help(self.root,val)\n",
    "            if found:\n",
    "                return True\n",
    "            return False\n",
    "        else:\n",
    "            return None\n",
    "        \n",
    "    def search_help(self,curr,val):\n",
    "        if curr.value == val:\n",
    "            return True\n",
    "        if val > curr.value and curr.right :\n",
    "            #print(\"in right\")\n",
    "            return self.search_help(curr.right,val)\n",
    "        if val < curr.value and curr.left :\n",
    "            #print(\"in left\")\n",
    "            return self.search_help(curr.left,val)\n",
    "        \n",
    "    def height(self,start):\n",
    "        if start is None:\n",
    "            return -1\n",
    "        left_h = self.height(start.left)\n",
    "        right_h = self.height(start.right)\n",
    "        return 1 + max(left_h,right_h)\n",
    "    \n",
    "    def inorder_traversal(self,start,traversal):\n",
    "        if start:\n",
    "            traversal = self.inorder_traversal(start.left,traversal)\n",
    "            traversal += str(start.value) + \"-\"\n",
    "            traversal = self.inorder_traversal(start.right,traversal)\n",
    "        return traversal\n",
    "        \n",
    "# For Binary Search Tree\n",
    "\n",
    "#          7\n",
    "#        /  \\\n",
    "#       2    9\n",
    "#      / \\  / \\\n",
    "#     1   4 8  10\n",
    "#        /\\\n",
    "#       3 5\n",
    "\n",
    "\n",
    "bst = BST(7)\n",
    "bst.insert(2)\n",
    "bst.insert(4)\n",
    "bst.insert(1)\n",
    "bst.insert(9)\n",
    "bst.insert(8)\n",
    "bst.insert(10)\n",
    "bst.insert(3)\n",
    "bst.insert(5)\n",
    "\n",
    "#print(bst.search(3))\n",
    "#print(\"Height of BST tree:\",bst.height(bst.root))\n",
    "print(\"Inorder Traversal:\",bst.inorder_traversal(bst.root,\"\"))"
   ]
  },
  {
   "cell_type": "code",
   "execution_count": null,
   "metadata": {},
   "outputs": [],
   "source": []
  }
 ],
 "metadata": {
  "kernelspec": {
   "display_name": "Python 3",
   "language": "python",
   "name": "python3"
  },
  "language_info": {
   "codemirror_mode": {
    "name": "ipython",
    "version": 3
   },
   "file_extension": ".py",
   "mimetype": "text/x-python",
   "name": "python",
   "nbconvert_exporter": "python",
   "pygments_lexer": "ipython3",
   "version": "3.7.4"
  }
 },
 "nbformat": 4,
 "nbformat_minor": 2
}
